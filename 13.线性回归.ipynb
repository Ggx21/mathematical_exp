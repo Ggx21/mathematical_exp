{
 "cells": [
  {
   "cell_type": "markdown",
   "metadata": {},
   "source": [
    "# 13章例1"
   ]
  },
  {
   "cell_type": "code",
   "execution_count": 13,
   "metadata": {},
   "outputs": [
    {
     "name": "stdout",
     "output_type": "stream",
     "text": [
      "回归系数 β0: 98.40835294409078, β1: 0.9732467982858133\n",
      "                            OLS Regression Results                            \n",
      "==============================================================================\n",
      "Dep. Variable:                      y   R-squared:                       0.454\n",
      "Model:                            OLS   Adj. R-squared:                  0.435\n",
      "Method:                 Least Squares   F-statistic:                     23.28\n",
      "Date:                Sun, 02 Jun 2024   Prob (F-statistic):           4.47e-05\n",
      "Time:                        13:37:06   Log-Likelihood:                -125.71\n",
      "No. Observations:                  30   AIC:                             255.4\n",
      "Df Residuals:                      28   BIC:                             258.2\n",
      "Df Model:                           1                                         \n",
      "Covariance Type:            nonrobust                                         \n",
      "==============================================================================\n",
      "                 coef    std err          t      P>|t|      [0.025      0.975]\n",
      "------------------------------------------------------------------------------\n",
      "const         98.4084      9.598     10.253      0.000      78.748     118.068\n",
      "x1             0.9732      0.202      4.825      0.000       0.560       1.386\n",
      "==============================================================================\n",
      "Omnibus:                       41.142   Durbin-Watson:                   1.664\n",
      "Prob(Omnibus):                  0.000   Jarque-Bera (JB):              167.499\n",
      "Skew:                           2.721   Prob(JB):                     4.25e-37\n",
      "Kurtosis:                      13.217   Cond. No.                         151.\n",
      "==============================================================================\n",
      "\n",
      "Notes:\n",
      "[1] Standard Errors assume that the covariance matrix of the errors is correctly specified.\n",
      "置信区间: \n",
      " beta_0: [ 78.74836781 118.06833808], beta_1: [0.56008876 1.38640483]\n",
      "perr: [9.5976941  0.20169722]\n"
     ]
    },
    {
     "data": {
      "image/png": "[encoded data removed]",
      "text/plain": [
       "<Figure size 640x480 with 1 Axes>"
      ]
     },
     "metadata": {},
     "output_type": "display_data"
    },
    {
     "name": "stdout",
     "output_type": "stream",
     "text": [
      "F: 23.283385369585204, p-value: 4.471638074121842e-05\n"
     ]
    }
   ],
   "source": [
    "import numpy as np\n",
    "import statsmodels.api as sm\n",
    "import matplotlib.pyplot as plt\n",
    "from sklearn.linear_model import LinearRegression\n",
    "from scipy import stats\n",
    "\n",
    "# 示例数据\n",
    "X = np.array([39,47,45,47,65,46,67,42,67,56,64,56,59,34,42,48,45,18,20,19,36,50,39,21,44,53,63,29,25,69]).reshape(-1, 1)  # 自变量\n",
    "y = np.array([144,215,138,145,162,142,170,124,158,154,162,150,140,110,128,130,135,114,116,124,136,142,120,120,160,158,144,130,125,175])  # 因变量\n",
    "\n",
    "# 线性回归模型\n",
    "model = LinearRegression()\n",
    "model.fit(X, y)\n",
    "\n",
    "# 回归系数\n",
    "beta_0 = model.intercept_\n",
    "beta_1 = model.coef_[0]\n",
    "\n",
    "print(f'回归系数 β0: {beta_0}, β1: {beta_1}')\n",
    "\n",
    "# 添加常数项（截距）\n",
    "X = sm.add_constant(X)\n",
    "\n",
    "# 使用statsmodels计算置信区间和其他统计指标\n",
    "ols_model = sm.OLS(y, X).fit()\n",
    "print(ols_model.summary())\n",
    "\n",
    "# 置信区间\n",
    "conf = ols_model.conf_int(alpha=0.05)\n",
    "print(f'置信区间: \\n beta_0: {conf[0]}, beta_1: {conf[1]}')\n",
    "\n",
    "#perr\n",
    "perr = ols_model.bse\n",
    "print(f'perr: {perr}')\n",
    "\n",
    "# 绘图\n",
    "plt.scatter(X[:, 1], y, color='blue')\n",
    "plt.plot(X[:, 1], model.predict(X[:, 1].reshape(-1, 1)), color='red')\n",
    "plt.xlabel('X')\n",
    "plt.ylabel('y')\n",
    "plt.title('Linear Regression')\n",
    "plt.show()\n",
    "\n",
    "#计算F(1,n-2,1-alpha)\n",
    "F = ols_model.fvalue\n",
    "p_value = ols_model.f_pvalue\n",
    "print(f'F: {F}, p-value: {p_value}')\n"
   ]
  },
  {
   "cell_type": "markdown",
   "metadata": {},
   "source": [
    "# 多元线性回归\n",
    "\n",
    "x的第一维是样本数,第二维是自变量个种类数"
   ]
  },
  {
   "cell_type": "code",
   "execution_count": 14,
   "metadata": {},
   "outputs": [
    {
     "name": "stdout",
     "output_type": "stream",
     "text": [
      "回归系数 β0: 37.75379227765515, β1: [-0.29120085  0.22964326 15.55254223]\n",
      "                            OLS Regression Results                            \n",
      "==============================================================================\n",
      "Dep. Variable:                      y   R-squared:                       0.956\n",
      "Model:                            OLS   Adj. R-squared:                  0.923\n",
      "Method:                 Least Squares   F-statistic:                     28.80\n",
      "Date:                Sun, 02 Jun 2024   Prob (F-statistic):            0.00362\n",
      "Time:                        14:14:53   Log-Likelihood:                -26.365\n",
      "No. Observations:                   8   AIC:                             60.73\n",
      "Df Residuals:                       4   BIC:                             61.05\n",
      "Df Model:                           3                                         \n",
      "Covariance Type:            nonrobust                                         \n",
      "==============================================================================\n",
      "                 coef    std err          t      P>|t|      [0.025      0.975]\n",
      "------------------------------------------------------------------------------\n",
      "const         37.7538     29.941      1.261      0.276     -45.376     120.884\n",
      "x1            -0.2912      9.955     -0.029      0.978     -27.932      27.349\n",
      "x2             0.2296      8.176      0.028      0.979     -22.470      22.930\n",
      "x3            15.5525      8.992      1.730      0.159      -9.413      40.519\n",
      "==============================================================================\n",
      "Omnibus:                        0.282   Durbin-Watson:                   1.977\n",
      "Prob(Omnibus):                  0.869   Jarque-Bera (JB):                0.392\n",
      "Skew:                          -0.281   Prob(JB):                        0.822\n",
      "Kurtosis:                       2.073   Cond. No.                         97.4\n",
      "==============================================================================\n",
      "\n",
      "Notes:\n",
      "[1] Standard Errors assume that the covariance matrix of the errors is correctly specified.\n",
      "置信区间: \n",
      "[[-45.37613319 120.88371774]\n",
      " [-27.93162309  27.34922139]\n",
      " [-22.47023427  22.92952079]\n",
      " [ -9.41349947  40.51858393]]\n"
     ]
    },
    {
     "name": "stderr",
     "output_type": "stream",
     "text": [
      "/home/yux/codes/math-exam/mathematical_exp/.conda/lib/python3.11/site-packages/scipy/stats/_axis_nan_policy.py:531: UserWarning: kurtosistest only valid for n>=20 ... continuing anyway, n=8\n",
      "  res = hypotest_fun_out(*samples, **kwds)\n"
     ]
    }
   ],
   "source": [
    "import numpy as np\n",
    "import statsmodels.api as sm\n",
    "import matplotlib.pyplot as plt\n",
    "from sklearn.linear_model import LinearRegression\n",
    "\n",
    "# 示例数据\n",
    "X = np.array([\n",
    "    [0.5601, 1.2, 3.3],\n",
    "    [1.3864, 2.4, 4.5],\n",
    "    [2.3, 3.6, 5.6],\n",
    "    [3.7, 4.1, 6.7],\n",
    "    [4.4, 5.8, 7.8],\n",
    "    [5.2, 6.3, 8.0],\n",
    "    [6.8, 7.4, 8.8],\n",
    "    [7.1, 8.9, 9.1]\n",
    "])\n",
    "\n",
    "y = np.array([78.7484, 118.0683, 130.2, 145.6, 150.1, 160.2, 175.3, 180.5])\n",
    "\n",
    "# 线性回归模型\n",
    "model = LinearRegression()\n",
    "model.fit(X, y)\n",
    "\n",
    "# 回归系数\n",
    "beta_0 = model.intercept_\n",
    "beta_1 = model.coef_\n",
    "\n",
    "print(f'回归系数 β0: {beta_0}, β1: {beta_1}')\n",
    "\n",
    "# 添加常数项（截距）\n",
    "X_const = sm.add_constant(X)\n",
    "\n",
    "# 使用statsmodels计算置信区间和其他统计指标\n",
    "ols_model = sm.OLS(y, X_const).fit()\n",
    "print(ols_model.summary())\n",
    "\n",
    "# 置信区间\n",
    "conf = ols_model.conf_int(alpha=0.05)\n",
    "print(f'置信区间: \\n{conf}')\n",
    "\n",
    "# 预测值\n",
    "y_pred = model.predict(X)\n",
    "\n",
    "# 绘图\n",
    "plt.scatter(range(len(y)), y, color='blue', label='observed')\n",
    "plt.plot(range(len(y)), y_pred, color='red', linestyle='--', label='predicted')\n",
    "plt.xlabel('x')\n",
    "plt.ylabel('y')\n",
    "plt.title('Linear Regression')\n",
    "plt.legend()\n",
    "plt.show()\n"
   ]
  },
  {
   "cell_type": "markdown",
   "metadata": {},
   "source": [
    "# 多项式回归"
   ]
  },
  {
   "cell_type": "code",
   "execution_count": 12,
   "metadata": {},
   "outputs": [
    {
     "name": "stdout",
     "output_type": "stream",
     "text": [
      "拟合参数: a = 3.9999999999999973, b = 1.000000000000001, c = 2.0\n",
      "参数标准误差: a = 1.955714836225392e-15, b = 1.2926139551128907e-15, c = 1.3541231536053022e-15\n",
      "参数95%置信区间: a = [3.999999999999993, 4.000000000000002], b = [0.9999999999999981, 1.000000000000004], c = [1.999999999999997, 2.000000000000003]\n"
     ]
    },
    {
     "data": {
      "image/png": "[encoded data removed]",
      "text/plain": [
       "<Figure size 640x480 with 1 Axes>"
      ]
     },
     "metadata": {},
     "output_type": "display_data"
    }
   ],
   "source": [
    "import numpy as np\n",
    "from scipy.optimize import curve_fit\n",
    "import matplotlib.pyplot as plt\n",
    "from scipy.stats import t\n",
    "\n",
    "# 示例数据\n",
    "x = np.array([0, 1, 2, 3, 4, 5,6,7,8,9])\n",
    "y= 4*np.log(x+1)+2\n",
    "\n",
    "\n",
    "\n",
    "# 定义非线性函数，例如二次函数\n",
    "def func(x, a, b, c):\n",
    "    return a * np.log(b * x + 1) + c\n",
    "\n",
    "# 进行曲线拟合\n",
    "popt, pcov = curve_fit(func, x, y)\n",
    "\n",
    "# 获取拟合参数及其置信区间\n",
    "a, b, c = popt\n",
    "perr = np.sqrt(np.diag(pcov))\n",
    "\n",
    "# 计算95%置信区间\n",
    "alpha = 0.05  # 95%的置信水平\n",
    "n = len(y)    # 样本大小\n",
    "dof = max(0, n - 2) # 自由度\n",
    "tval = t.ppf(1 - alpha/2, dof)\n",
    "\n",
    "ci_a = [a - tval * perr[0], a + tval * perr[0]]\n",
    "ci_b = [b - tval * perr[1], b + tval * perr[1]]\n",
    "ci_c = [c - tval * perr[2], c + tval * perr[2]]\n",
    "\n",
    "print(f'拟合参数: a = {a}, b = {b}, c = {c}')\n",
    "print(f'参数标准误差: a = {perr[0]}, b = {perr[1]}, c = {perr[2]}')\n",
    "print(f'参数95%置信区间: a = {ci_a}, b = {ci_b}, c = {ci_c}')\n",
    "\n",
    "# 绘制数据点和拟合曲线\n",
    "plt.scatter(x, y, label='data')\n",
    "x_fit = np.linspace(0, 10, 100)\n",
    "y_fit = func(x_fit, *popt)\n",
    "plt.plot(x_fit, y_fit, label='curve', color='red')\n",
    "plt.xlabel('x')\n",
    "plt.ylabel('y')\n",
    "plt.legend()\n",
    "plt.title('Nonlinear Curve Fitting')\n",
    "plt.show()\n"
   ]
  }
 ],
 "metadata": {
  "kernelspec": {
   "display_name": "work",
   "language": "python",
   "name": "python3"
  },
  "language_info": {
   "codemirror_mode": {
    "name": "ipython",
    "version": 3
   },
   "file_extension": ".py",
   "mimetype": "text/x-python",
   "name": "python",
   "nbconvert_exporter": "python",
   "pygments_lexer": "ipython3",
   "version": "3.1.-1"
  }
 },
 "nbformat": 4,
 "nbformat_minor": 2
}
