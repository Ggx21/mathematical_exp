{
 "cells": [
  {
   "cell_type": "markdown",
   "metadata": {},
   "source": [
    "# 线性规划\n",
    "\n",
    "实验 7 中我们已经给出了优化问题的数学规划模型的一般形式\n",
    "$$\n",
    "min z=f(x),x=(x_1,x_2,\\cdots,x_n)\\in R^n \\tag{1}\n",
    "$$\n",
    "$$\n",
    "s.t. g_i(x)\\leq 0 , i=1,2,\\cdots,m \\tag{2}\n",
    "$$\n",
    "但是实验7没有考虑到(2)的约束条件,而一个约束优化问题的最优解通常在由(2)界定的可行域边界上取得.因此本章讨论线性规划,即函数$f(x)$和$g_i(x)$都是线性函数的优化问题."
   ]
  }
 ],
 "metadata": {
  "kernelspec": {
   "display_name": "Python 3",
   "language": "python",
   "name": "python3"
  },
  "language_info": {
   "codemirror_mode": {
    "name": "ipython",
    "version": 3
   },
   "file_extension": ".py",
   "mimetype": "text/x-python",
   "name": "python",
   "nbconvert_exporter": "python",
   "pygments_lexer": "ipython3",
   "version": "3.11.9"
  }
 },
 "nbformat": 4,
 "nbformat_minor": 2
}
