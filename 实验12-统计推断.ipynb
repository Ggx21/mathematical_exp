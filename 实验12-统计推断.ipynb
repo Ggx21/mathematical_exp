{
 "cells": [
  {
   "cell_type": "code",
   "execution_count": null,
   "metadata": {},
   "outputs": [],
   "source": []
  },
  {
   "cell_type": "markdown",
   "metadata": {},
   "source": [
    "# 实验12-统计推断\n",
    "\n",
    "这一章是讲如何从样本推断总体,以及如何评价从样本推断整体的可信程度.\n",
    "\n",
    "- 怎样由样本数据估计总体的一些参数\n",
    "- 估计的可靠程度如何\n",
    "- 怎样根据样本数据去肯定或否定一个事先提出的假设\n",
    "\n",
    "## 参数估计\n",
    "\n",
    "假定总体的概率分布的类型(如正态分布\\指数分布)已知,由样本估计分布的参数(如$\\mu,\\sigma$)的值.\n",
    "> 本节只讨论正态分布的参数估计\n",
    "> 本节只讨论期望和方差的估计\n",
    "\n",
    "### 点估计\n",
    "\n",
    "通常取$$\\hat{\\mu}=\\bar{x},\\hat{\\sigma}=\\bar{s}$$\n",
    "\n",
    "#### 将总体分布的参数用样本统计量估计\n",
    "\n",
    "- 样本($x_1,x_2,\\cdots,x_n$)的样本均值$\\bar{x}=\\frac{1}{n}\\sum_{i=1}^n x_i$称为`一阶矩`\n",
    "- `二阶矩`是样本的方差$A_2=\\frac{1}{n-1}\\sum_{i=1}^n(x_i-\\bar{x})^2$\n",
    "- 可以用样本`一阶矩`和`二阶矩`对总体$\\mu,\\sigma^2$进行估计,记作\n",
    "  - $\\hat{\\mu}=\\bar{x}$\n",
    "  - $\\hat{\\sigma}^2=A_2$\n",
    "\n",
    "#### 极大似然估计\n",
    "\n",
    "极大似然估计是一种常用的参数估计方法,其基本思想是:在所有可能的参数值中,选择使得观察到的样本数据出现的概率最大的参数值作为估计值.\n",
    "设总体的概率密度函数为$f(x;\\theta)$,其中$\\theta$是待估参数,样本为$x_1,x_2,\\cdots,x_n$,则样本的联合概率密度函数为\n",
    "$$\n",
    "L(\\theta)=f(x_1;\\theta)f(x_2;\\theta)\\cdots f(x_n;\\theta)\n",
    "$$\n",
    "称为似然函数,取对数得到\n",
    "$$\n",
    "\\ln L(\\theta)=\\ln f(x_1;\\theta)+\\ln f(x_2;\\theta)+\\cdots+\\ln f(x_n;\\theta)\n",
    "$$\n",
    "对$\\theta$求导,令导数为0,解出$\\theta$的值,即为极大似然估计值.\n",
    "\n",
    "#### 点估计的评价标准\n",
    "\n",
    "- 无偏性: 估计量的数学期望等于被估计参数的真值\n",
    "  - `一阶矩`是无偏的\n",
    "  - `二阶矩`是有偏的,其无偏估计量是$\\frac{n-1}{n}A_2=s^2=\\frac{n-1}{n}\\sum_{i=1}^n(x_i-\\bar{x})^2$\n",
    "- 有效性: 估计量的方差小\n",
    "  - 对固定的n,某个$\\hat{\\theta}$的方差更小,则称$\\hat{\\theta}$是更有效的\n",
    "- 一致性: 当样本容量增大时,估计值收敛于被估计参数的真值\n",
    "\n",
    "### 区间估计\n"
   ]
  },
  {
   "cell_type": "markdown",
   "metadata": {},
   "source": [
    "\n",
    "#### 置信区间\n",
    "\n",
    "置信区间是指用样本统计量估计总体参数时,给出的一个区间,该区间包含真值的概率为$1-\\alpha$,其中$\\alpha$称为`显著性水平`,常取0.05,0.01等.$1-\\alpha$称为置信概率\n",
    "形式上来说:\n",
    "$$\n",
    "P(\\theta_1<\\theta<\\theta_2)=1-\\alpha\n",
    "$$\n",
    "其中$\\theta_1,\\theta_2$是样本统计量($x_i$)的函数,称为置信区间的下限和上限.\n",
    "\n",
    "#### 总体均值的区间估计\n",
    "\n",
    "- 总体方差已知\n",
    "  - 对$\\bar{x}$标准化得到$Z=\\frac{\\bar{x}-\\mu}{\\sigma/\\sqrt{n}}\\sim N(0,1)$\n",
    "  - 给定置信水平$1-\\alpha$,寻找两个常数$L,U$,使得$P(L<z<U)=1-\\alpha$\n",
    "  - 总体均值的置信区间为$\\bar{x}\\pm u_{1-\\alpha/2}\\frac{\\sigma}{\\sqrt{n}}$\n",
    "  - 其中$z_{\\alpha/2}$是标准正态分布的上侧$\\alpha/2$分位数\n",
    "  - 由于总体方差已知,所以可以直接计算\n"
   ]
  },
  {
   "cell_type": "code",
   "execution_count": 19,
   "metadata": {},
   "outputs": [
    {
     "name": "stdout",
     "output_type": "stream",
     "text": [
      "方差已知的情况下，总体均值的置信区间: (164.96738729711709, 173.7326127028829)\n"
     ]
    }
   ],
   "source": [
    "import numpy as np\n",
    "from scipy.stats import norm\n",
    "\n",
    "def estimate_population_mean_known_variance(sample, sigma, confidence_level=0.95):\n",
    "    sample_mean = np.mean(sample)\n",
    "    n = len(sample)\n",
    "    alpha = 1 - confidence_level\n",
    "    z_value = norm.ppf(1 - alpha / 2)\n",
    "    margin_of_error = z_value * (sigma / np.sqrt(n))\n",
    "    conf_interval = (sample_mean - margin_of_error, sample_mean + margin_of_error)\n",
    "    return conf_interval\n",
    "\n",
    "# 示例\n",
    "sample = np.array([172, 171, 166, 160, 155, 173, 166, 170, 167, 173, 178, 173, 163, 165, 170, 163, 172, 182, 171, 177])\n",
    "sigma = 10\n",
    "confidence_level = 0.95\n",
    "\n",
    "conf_interval_known = estimate_population_mean_known_variance(sample, sigma, confidence_level)\n",
    "print(f\"方差已知的情况下，总体均值的置信区间: {conf_interval_known}\")"
   ]
  },
  {
   "cell_type": "markdown",
   "metadata": {},
   "source": [
    "- 总体方差未知\n",
    "  - 总体均值的置信区间为$\\bar{x}\\pm t_{1-\\alpha/2}\\frac{s}{\\sqrt{n}}$\n",
    "  - 其中$t_{\\alpha/2}$是自由度为$n-1$的t分布的上侧$\\alpha/2$分位数\n",
    "  - 由于总体方差未知,所以用样本方差代替总体方差\n"
   ]
  },
  {
   "cell_type": "code",
   "execution_count": 20,
   "metadata": {},
   "outputs": [
    {
     "name": "stdout",
     "output_type": "stream",
     "text": [
      "方差未知的情况下，总体均值的置信区间: (166.36181727721933, 172.33818272278066)\n"
     ]
    }
   ],
   "source": [
    "import numpy as np\n",
    "from scipy import stats\n",
    "\n",
    "def estimate_population_mean_unknown_variance(sample, confidence_level=0.95):\n",
    "    sample_mean = np.mean(sample)\n",
    "    sample_std = np.std(sample, ddof=1)\n",
    "    n = len(sample)\n",
    "    alpha = 1 - confidence_level\n",
    "    t_value = stats.t.ppf(1 - alpha / 2, df=n-1)\n",
    "    margin_of_error = t_value * (sample_std / np.sqrt(n))\n",
    "    conf_interval = (sample_mean - margin_of_error, sample_mean + margin_of_error)\n",
    "    return conf_interval\n",
    "\n",
    "# 示例\n",
    "sample = np.array([172, 171, 166, 160, 155, 173, 166, 170, 167, 173, 178, 173, 163, 165, 170, 163, 172, 182, 171, 177])\n",
    "confidence_level = 0.95\n",
    "\n",
    "conf_interval_unknown = estimate_population_mean_unknown_variance(sample, confidence_level)\n",
    "print(f\"方差未知的情况下，总体均值的置信区间: {conf_interval_unknown}\")"
   ]
  },
  {
   "cell_type": "markdown",
   "metadata": {},
   "source": [
    "\n",
    "#### 总体方差的区间估计\n",
    "\n",
    "在置信水平$1-\\alpha$下,总体方差$\\sigma^2$的置信区间为\n",
    "$$\n",
    "\\left[\\frac{(n-1)s^2}{\\chi^2_{1-\\alpha/2}},\\frac{(n-1)s^2}{\\chi^2_{\\alpha/2}}\\right]\n",
    "$$\n"
   ]
  },
  {
   "cell_type": "code",
   "execution_count": 21,
   "metadata": {},
   "outputs": [
    {
     "name": "stdout",
     "output_type": "stream",
     "text": [
      "总体方差的置信区间: (23.57671659788239, 86.96441550031433)\n"
     ]
    }
   ],
   "source": [
    "import numpy as np\n",
    "from scipy.stats import chi2\n",
    "\n",
    "def estimate_population_variance_confidence_interval(sample, confidence_level=0.95):\n",
    "    n = len(sample)\n",
    "    sample_variance = np.var(sample, ddof=1)\n",
    "    alpha = 1 - confidence_level\n",
    "\n",
    "    chi2_lower = chi2.ppf(alpha / 2, df=n-1)\n",
    "    chi2_upper = chi2.ppf(1 - alpha / 2, df=n-1)\n",
    "\n",
    "    lower_bound = (n - 1) * sample_variance / chi2_upper\n",
    "    upper_bound = (n - 1) * sample_variance / chi2_lower\n",
    "\n",
    "    return (lower_bound, upper_bound)\n",
    "\n",
    "# 示例\n",
    "sample = np.array([172, 171, 166, 160, 155, 173, 166, 170, 167, 173, 178, 173, 163, 165, 170, 163, 172, 182, 171, 177])\n",
    "confidence_level = 0.95\n",
    "\n",
    "conf_interval_variance = estimate_population_variance_confidence_interval(sample, confidence_level)\n",
    "print(f\"总体方差的置信区间: {conf_interval_variance}\")\n"
   ]
  },
  {
   "cell_type": "markdown",
   "metadata": {},
   "source": [
    "#### 两样本均值差值的区间估计"
   ]
  },
  {
   "cell_type": "code",
   "execution_count": 22,
   "metadata": {},
   "outputs": [
    {
     "name": "stdout",
     "output_type": "stream",
     "text": [
      "1月和2月价格差在α=0.05显著性水平下的置信区间: (-8.027274417173235, -3.172725582826754)\n"
     ]
    }
   ],
   "source": [
    "dataset ={\n",
    "    'jan': [119, 117, 115, 116, 112, 121, 115, 122, 116, 118, 109, 112, 119, 112, 117, 113, 114, 109, 109, 118],\n",
    "    'feb': [118, 119, 115, 122, 118, 121, 120, 122, 128, 116, 120, 123, 121, 119, 117, 119, 128, 126, 118, 125],\n",
    "}\n",
    "\n",
    "mu0 = 115\n",
    "alpha = 0.05\n",
    "\n",
    "# Convert the lists to numpy arrays for easier calculations\n",
    "jan_prices = np.array(dataset['jan'])\n",
    "feb_prices = np.array(dataset['feb'])\n",
    "\n",
    "mean_jan = np.mean(jan_prices)\n",
    "mean_feb = np.mean(feb_prices)\n",
    "mean_diff = mean_jan - mean_feb\n",
    "\n",
    "# 标准误差计算\n",
    "std_err_jan = np.std(jan_prices, ddof=1) / np.sqrt(len(jan_prices))\n",
    "std_err_feb = np.std(feb_prices, ddof=1) / np.sqrt(len(feb_prices))\n",
    "std_err_diff = np.sqrt(std_err_jan**2 + std_err_feb**2)\n",
    "\n",
    "# 自由度计算（可以使用近似公式）\n",
    "df = len(jan_prices) + len(feb_prices) - 2\n",
    "\n",
    "# 置信区间计算\n",
    "t_critical = stats.t.ppf(1 - alpha/2, df)\n",
    "margin_of_error = t_critical * std_err_diff\n",
    "conf_int_diff = (mean_diff - margin_of_error, mean_diff + margin_of_error)\n",
    "\n",
    "print(f\"1月和2月价格差在α=0.05显著性水平下的置信区间: {conf_int_diff}\")"
   ]
  },
  {
   "cell_type": "markdown",
   "metadata": {},
   "source": [
    "\n",
    "\n",
    "\n",
    "## 假设检验\n",
    "\n",
    "假设检验是指在给定显著性水平$\\alpha$下,根据样本数据对总体参数提出的某种假设进行检验.\n",
    "\n",
    "### 基本概念\n",
    "\n",
    "- 原假设$H_0$: 对总体参数提出的某种假设\n",
    "- 备择假设$H_1$: 对原假设的否定\n",
    "\n",
    "当然可以！以下是每个问题的应用示例和相应的Python代码。\n",
    "\n",
    "### 1. 总体均值的假设检验\n",
    "\n",
    "**应用示例**：一个公司想知道其员工的平均工资是否为5000元。假设工资服从正态分布。\n",
    "\n",
    "**Python求解**：\n"
   ]
  },
  {
   "cell_type": "code",
   "execution_count": 23,
   "metadata": {},
   "outputs": [
    {
     "name": "stdout",
     "output_type": "stream",
     "text": [
      "T统计量: 0.17407765595569782, p值: 0.8667318497550079\n",
      "不拒绝原假设: 没有证据表明员工的平均工资不同于5000元\n"
     ]
    }
   ],
   "source": [
    "import numpy as np\n",
    "from scipy.stats import ttest_1samp\n",
    "\n",
    "# 假设我们有一组员工的工资样本\n",
    "salaries = np.array([4800, 5200, 5000, 5100, 4900, 5300, 4700, 5100])\n",
    "\n",
    "# 进行单样本t检验\n",
    "t_stat, p_value = ttest_1samp(salaries, 5000)\n",
    "\n",
    "print(f\"T统计量: {t_stat}, p值: {p_value}\")\n",
    "\n",
    "# 判断是否拒绝原假设\n",
    "alpha = 0.05\n",
    "if p_value < alpha:\n",
    "    print(\"拒绝原假设: 员工的平均工资显著不同于5000元\")\n",
    "else:\n",
    "    print(\"不拒绝原假设: 没有证据表明员工的平均工资不同于5000元\")\n"
   ]
  },
  {
   "cell_type": "markdown",
   "metadata": {},
   "source": [
    "\n",
    "### 2. 总体方差的假设检验\n",
    "\n",
    "**应用示例**：一个工厂想知道其生产的零件直径的方差是否为0.01平方厘米。\n",
    "\n",
    "**Python求解**：\n"
   ]
  },
  {
   "cell_type": "code",
   "execution_count": 24,
   "metadata": {},
   "outputs": [
    {
     "name": "stdout",
     "output_type": "stream",
     "text": [
      "卡方统计量: 0.28874999999999656, p值: 0.9999121071598152\n",
      "不拒绝原假设: 没有证据表明零件直径的方差不同于0.01平方厘米\n"
     ]
    }
   ],
   "source": [
    "\n",
    "import numpy as np\n",
    "from scipy.stats import chi2\n",
    "\n",
    "# 假设我们有一组零件直径的样本数据\n",
    "diameters = np.array([2.99, 3.01, 2.98, 3.02, 3.00, 3.03, 2.97, 3.01])\n",
    "\n",
    "# 计算样本方差\n",
    "sample_variance = np.var(diameters, ddof=1)\n",
    "\n",
    "# 样本大小\n",
    "n = len(diameters)\n",
    "\n",
    "# 计算卡方统计量\n",
    "chi2_stat = (n - 1) * sample_variance / 0.01\n",
    "\n",
    "# 计算p值\n",
    "p_value = 1 - chi2.cdf(chi2_stat, df=n-1)\n",
    "\n",
    "print(f\"卡方统计量: {chi2_stat}, p值: {p_value}\")\n",
    "\n",
    "# 判断是否拒绝原假设\n",
    "alpha = 0.05\n",
    "if p_value < alpha:\n",
    "    print(\"拒绝原假设: 零件直径的方差显著不同于0.01平方厘米\")\n",
    "else:\n",
    "    print(\"不拒绝原假设: 没有证据表明零件直径的方差不同于0.01平方厘米\")\n",
    "\n"
   ]
  },
  {
   "cell_type": "markdown",
   "metadata": {},
   "source": [
    "\n",
    "\n",
    "### 3. 两总体均值的假设检验\n",
    "\n",
    "**应用示例**：两种不同肥料的效果是否有显著差异。我们测量了使用两种肥料的植物生长高度。\n",
    "\n",
    "**Python求解**：\n"
   ]
  },
  {
   "cell_type": "code",
   "execution_count": 25,
   "metadata": {},
   "outputs": [
    {
     "name": "stdout",
     "output_type": "stream",
     "text": [
      "T统计量: -7.514430561703706, p值: 2.816546758109079e-06\n",
      "拒绝原假设: 两种肥料的效果显著不同\n"
     ]
    }
   ],
   "source": [
    "\n",
    "import numpy as np\n",
    "from scipy.stats import ttest_ind\n",
    "\n",
    "# 假设我们有两组植物生长高度的样本数据\n",
    "fertilizer_A = np.array([22, 24, 21, 23, 25, 20, 22, 23])\n",
    "fertilizer_B = np.array([27, 28, 26, 29, 30, 27, 28, 29])\n",
    "\n",
    "# 进行独立样本t检验\n",
    "t_stat, p_value = ttest_ind(fertilizer_A, fertilizer_B)\n",
    "\n",
    "print(f\"T统计量: {t_stat}, p值: {p_value}\")\n",
    "\n",
    "# 判断是否拒绝原假设\n",
    "alpha = 0.05\n",
    "if p_value < alpha:\n",
    "    print(\"拒绝原假设: 两种肥料的效果显著不同\")\n",
    "else:\n",
    "    print(\"不拒绝原假设: 没有证据表明两种肥料的效果不同\")\n",
    "\n"
   ]
  },
  {
   "cell_type": "markdown",
   "metadata": {},
   "source": [
    "\n",
    "### 4. 0-1分布总体均值的假设检验\n",
    "\n",
    "**应用示例**：一个公司想知道新产品的购买率是否为20%。\n",
    "\n",
    "**Python求解**：\n"
   ]
  },
  {
   "cell_type": "code",
   "execution_count": 26,
   "metadata": {},
   "outputs": [
    {
     "name": "stdout",
     "output_type": "stream",
     "text": [
      "Z统计量: 2.0701966780270626, p值: 0.03843393023678171\n",
      "拒绝原假设: 购买率显著不同于20%\n"
     ]
    }
   ],
   "source": [
    "import numpy as np\n",
    "from statsmodels.stats.proportion import proportions_ztest\n",
    "\n",
    "# 假设我们有一组购买行为的样本数据 (1表示购买，0表示未购买)\n",
    "purchases = np.array([1, 0, 1, 1, 0, 0, 1, 0, 0, 0, 1, 1, 0, 1, 0])\n",
    "\n",
    "# 计算样本中购买的数量和样本总数\n",
    "count = np.sum(purchases)\n",
    "nobs = len(purchases)\n",
    "\n",
    "# 进行比例检验\n",
    "stat, p_value = proportions_ztest(count, nobs, value=0.2)\n",
    "\n",
    "print(f\"Z统计量: {stat}, p值: {p_value}\")\n",
    "\n",
    "# 判断是否拒绝原假设\n",
    "alpha = 0.05\n",
    "if p_value < alpha:\n",
    "    print(\"拒绝原假设: 购买率显著不同于20%\")\n",
    "else:\n",
    "    print(\"不拒绝原假设: 没有证据表明购买率不同于20%\")"
   ]
  },
  {
   "cell_type": "markdown",
   "metadata": {},
   "source": [
    "\n",
    "### 5. 总体正态性检验\n",
    "\n",
    "**应用示例**：验证某个产品的重量是否服从正态分布。\n",
    "\n",
    "**Python求解**：\n"
   ]
  },
  {
   "cell_type": "code",
   "execution_count": 27,
   "metadata": {},
   "outputs": [
    {
     "name": "stdout",
     "output_type": "stream",
     "text": [
      "Shapiro-Wilk统计量: 0.9748582563729307, p值: 0.9331651921064827\n",
      "不拒绝原假设: 没有证据表明样本数据不服从正态分布\n"
     ]
    }
   ],
   "source": [
    "import numpy as np\n",
    "from scipy.stats import shapiro\n",
    "\n",
    "# 假设我们有一组产品重量的样本数据\n",
    "weights = np.array([50.1, 49.8, 50.3, 49.9, 50.0, 50.2, 49.7, 50.4])\n",
    "\n",
    "# 进行Shapiro-Wilk正态性检验\n",
    "stat, p_value = shapiro(weights)\n",
    "\n",
    "print(f\"Shapiro-Wilk统计量: {stat}, p值: {p_value}\")\n",
    "\n",
    "# 判断是否拒绝原假设\n",
    "alpha = 0.05\n",
    "if p_value < alpha:\n",
    "    print(\"拒绝原假设: 样本数据不服从正态分布\")\n",
    "else:\n",
    "    print(\"不拒绝原假设: 没有证据表明样本数据不服从正态分布\")"
   ]
  },
  {
   "cell_type": "markdown",
   "metadata": {},
   "source": [
    "### 6.单边检验"
   ]
  },
  {
   "cell_type": "code",
   "execution_count": 28,
   "metadata": {},
   "outputs": [
    {
     "name": "stdout",
     "output_type": "stream",
     "text": [
      "T统计量: 0.17407765595569782, 单边p值: 0.43336592487750397\n",
      "不拒绝原假设: 没有证据表明员工的平均工资大于5000元\n"
     ]
    },
    {
     "ename": "",
     "evalue": "",
     "output_type": "error",
     "traceback": [
      "\u001b[1;31m在当前单元格或上一个单元格中执行代码时 Kernel 崩溃。\n",
      "\u001b[1;31m请查看单元格中的代码，以确定故障的可能原因。\n",
      "\u001b[1;31m单击<a href='https://aka.ms/vscodeJupyterKernelCrash'>此处</a>了解详细信息。\n",
      "\u001b[1;31m有关更多详细信息，请查看 Jupyter <a href='command:jupyter.viewOutput'>log</a>。"
     ]
    }
   ],
   "source": [
    "import numpy as np\n",
    "from scipy.stats import ttest_1samp\n",
    "\n",
    "# 假设我们有一组员工的工资样本\n",
    "salaries = np.array([4800, 5200, 5000, 5100, 4900, 5300, 4700, 5100])\n",
    "\n",
    "# 进行单样本t检验\n",
    "t_stat, p_value = ttest_1samp(salaries, 5000)\n",
    "\n",
    "# 单边检验，只关心平均工资是否大于5000元\n",
    "p_value_one_sided = p_value / 2 if t_stat > 0 else 1 - p_value / 2\n",
    "\n",
    "print(f\"T统计量: {t_stat}, 单边p值: {p_value_one_sided}\")\n",
    "\n",
    "# 判断是否拒绝原假设\n",
    "alpha = 0.05\n",
    "if p_value_one_sided < alpha:\n",
    "    print(\"拒绝原假设: 员工的平均工资显著大于5000元\")\n",
    "else:\n",
    "    print(\"不拒绝原假设: 没有证据表明员工的平均工资大于5000元\")"
   ]
  }
 ],
 "metadata": {
  "kernelspec": {
   "display_name": "work",
   "language": "python",
   "name": "python3"
  },
  "language_info": {
   "codemirror_mode": {
    "name": "ipython",
    "version": 3
   },
   "file_extension": ".py",
   "mimetype": "text/x-python",
   "name": "python",
   "nbconvert_exporter": "python",
   "pygments_lexer": "ipython3",
   "version": "3.12.3"
  }
 },
 "nbformat": 4,
 "nbformat_minor": 2
}
