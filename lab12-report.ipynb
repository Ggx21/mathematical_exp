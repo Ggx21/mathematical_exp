{
 "cells": [
  {
   "cell_type": "markdown",
   "metadata": {},
   "source": [
    "# 第x次实验实验报告\n",
    "计算机系 计15 2021010803 郭高旭\n",
    "\n",
    "## 实验目的\n",
    "- 练习<>的计算\n",
    "- 掌握使用python求<>\n",
    "- 通过实例使用<>模型解决简化的实际问题\n",
    "- 了解<>"
   ]
  },
  {
   "cell_type": "markdown",
   "metadata": {},
   "source": [
    "## 第2题：\n",
    "\n",
    "### 问题分析与算法设计\n",
    "\n",
    "#### 第一问\n",
    "实际情况下,加油站的油价看作是一个随机变量x,其概率密度函数可以用正态分布来近似即\n",
    "$$\n",
    "x \\sim N(\\mu,\\sigma^2)\n",
    "$$\n",
    "设$\\mu_0=115$,则题中的问题可以转化为假设检验问题:\n",
    "$$\n",
    "H_0:\\mu=\\mu_0=115;H_1:\\mu\\ne\\mu_0\n",
    "$$\n",
    "由于总体的方差未知,所以采用t检验方法,检验统计量为\n",
    "$$\n",
    "t=\\frac{\\bar{x}-\\mu_0}{s/\\sqrt{n}}\n",
    "$$\n",
    "可以使用python的scipy库中的ttest_1samp函数进行检验\n",
    "#### 第二问\n",
    "分别给出的1月和2月的汽油价格在$\\alpha=0.05$的显著性水平下的置信区间\n",
    "#### 第三问\n",
    "1月和月价格差在$\\alpha=0.05$的显著性水平下的置信区间\n",
    "\n",
    "\n",
    "### 代码实现与结果\n",
    "下面是代码实现，使用python实现了上述算法"
   ]
  },
  {
   "cell_type": "code",
   "execution_count": 8,
   "metadata": {},
   "outputs": [
    {
     "name": "stdout",
     "output_type": "stream",
     "text": [
      "1月汽油价格的平均值: 115.15 2月汽油价格的平均值: 120.75\n",
      "1月汽油价格的t检验统计量: 0.17334198375344173, p值: 0.8642160061892782\n",
      "2月汽油价格的t检验统计量: 6.9281343008173835, p值: 1.3240735570489704e-06\n",
      "1月汽油价格在α=0.05显著性水平下的置信区间: (113.33881957294425, 116.96118042705577)\n",
      "2月汽油价格在α=0.05显著性水平下的置信区间: (119.01289621559044, 122.48710378440956)\n",
      "1月和2月价格均值差在α=0.05显著性水平下的置信区间: (-6.161155241317399, -5.03884475868259)\n"
     ]
    }
   ],
   "source": [
    "import numpy as np\n",
    "import scipy.stats as stats\n",
    "\n",
    "dataset ={\n",
    "    'jan': [119, 117, 115, 116, 112, 121, 115, 122, 116, 118, 109, 112, 119, 112, 117, 113, 114, 109, 109, 118],\n",
    "    'feb': [118, 119, 115, 122, 118, 121, 120, 122, 128, 116, 120, 123, 121, 119, 117, 119, 128, 126, 118, 125],\n",
    "}\n",
    "\n",
    "mu0 = 115\n",
    "alpha = 0.05\n",
    "\n",
    "# Convert the lists to numpy arrays for easier calculations\n",
    "jan_prices = np.array(dataset['jan'])\n",
    "feb_prices = np.array(dataset['feb'])\n",
    "\n",
    "#average\n",
    "\n",
    "mean_jan=np.mean(jan_prices)\n",
    "mean_feb=np.mean(feb_prices)\n",
    "\n",
    "print(f\"1月汽油价格的平均值: {mean_jan}\", f\"2月汽油价格的平均值: {mean_feb}\")\n",
    "\n",
    "t_stat_jan, p_value_jan = stats.ttest_1samp(jan_prices, mu0)\n",
    "t_stat_feb, p_value_feb = stats.ttest_1samp(feb_prices, mu0)\n",
    "\n",
    "print(f\"1月汽油价格的t检验统计量: {t_stat_jan}, p值: {p_value_jan}\")\n",
    "print(f\"2月汽油价格的t检验统计量: {t_stat_feb}, p值: {p_value_feb}\")\n",
    "\n",
    "mean_jan = np.mean(jan_prices)\n",
    "std_err_jan = stats.sem(jan_prices)\n",
    "conf_int_jan = stats.t.interval(1 - alpha, len(jan_prices) - 1, loc=mean_jan, scale=std_err_jan)\n",
    "\n",
    "mean_feb = np.mean(feb_prices)\n",
    "std_err_feb = stats.sem(feb_prices)\n",
    "conf_int_feb = stats.t.interval(1 - alpha, len(feb_prices) - 1, loc=mean_feb, scale=std_err_feb)\n",
    "\n",
    "print(f\"1月汽油价格在α=0.05显著性水平下的置信区间: {conf_int_jan}\")\n",
    "print(f\"2月汽油价格在α=0.05显著性水平下的置信区间: {conf_int_feb}\")\n",
    "\n",
    "# 第三问：1月和2月价格均值差的置信区间\n",
    "n_jan = len(jan_prices)\n",
    "n_feb = len(feb_prices)\n",
    "\n",
    "mean_diff = mean_jan - mean_feb\n",
    "std_err_diff = np.sqrt((std_err_jan**2 / n_jan) + (std_err_feb**2 / n_feb))\n",
    "\n",
    "# 自由度\n",
    "df = min(n_jan - 1, n_feb - 1)\n",
    "\n",
    "# 置信区间\n",
    "conf_int_diff = stats.t.interval(1 - alpha, df, loc=mean_diff, scale=std_err_diff)\n",
    "\n",
    "print(f\"1月和2月价格均值差在α=0.05显著性水平下的置信区间: {conf_int_diff}\")\n"
   ]
  },
  {
   "cell_type": "markdown",
   "metadata": {},
   "source": [
    "### 结果分析\n",
    "\n",
    "- 第一问\n",
    "  - 一月份由于p值大于0.05，所以接受原假设，即认为加油站的油价等于115\n",
    "  - 二月份由于p值小于0.05，所以拒绝原假设，即认为加油站的油价不等于115\n",
    "- 第二问\n",
    "  - 在$\\alpha=0.05$的显著性水平下，一月份的汽油价格的置信区间为[113.34,116.96]\n",
    "  - 在$\\alpha=0.05$的显著性水平下，二月份的汽油价格的置信区间为[119.01,122.49]\n",
    "- 第三问\n",
    "  - 在$\\alpha=0.05$的显著性水平下，一月份和二月份的汽油价格差的置信区间为[-6.65,-2.35]\n",
    "\n",
    "\n",
    "### 结论\n",
    "\n"
   ]
  },
  {
   "cell_type": "markdown",
   "metadata": {},
   "source": [
    "## 第b题：\n",
    "### 问题分析与模型建立\n",
    "\n",
    "### 代码实现与结果\n"
   ]
  },
  {
   "cell_type": "code",
   "execution_count": null,
   "metadata": {},
   "outputs": [],
   "source": []
  },
  {
   "cell_type": "markdown",
   "metadata": {},
   "source": [
    "### 结果分析\n",
    "\n",
    "### 结论\n",
    "\n",
    "### 意义\n"
   ]
  },
  {
   "cell_type": "markdown",
   "metadata": {},
   "source": [
    "## 第c题：\n",
    "\n",
    "### 问题分析与模型建立\n",
    "\n",
    "### 代码实现与结果"
   ]
  },
  {
   "cell_type": "markdown",
   "metadata": {},
   "source": [
    "### 结果分析\n",
    "\n",
    "### 结论\n"
   ]
  }
 ],
 "metadata": {
  "kernelspec": {
   "display_name": "Python 3",
   "language": "python",
   "name": "python3"
  },
  "language_info": {
   "codemirror_mode": {
    "name": "ipython",
    "version": 3
   },
   "file_extension": ".py",
   "mimetype": "text/x-python",
   "name": "python",
   "nbconvert_exporter": "python",
   "pygments_lexer": "ipython3",
   "version": "3.11.8"
  },
  "orig_nbformat": 4
 },
 "nbformat": 4,
 "nbformat_minor": 2
}
