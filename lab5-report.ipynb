{
 "cells": [
  {
   "cell_type": "markdown",
   "metadata": {},
   "source": [
    "# 第5次实验实验报告\n",
    "计算机系 计15 2021010803 郭高旭\n",
    "\n",
    "## 实验目的\n",
    "- 练习线性代数方程组的计算\n",
    "- 掌握使用python求线性代数方程组的数值解\n",
    "- 通过实例使用线性代数方程组模型解决简化的实际问题\n",
    "- 对迭代法的收敛性和解的稳定性作初步分析"
   ]
  },
  {
   "cell_type": "code",
   "execution_count": 18,
   "metadata": {},
   "outputs": [],
   "source": [
    "import numpy as np\n",
    "import scipy.linalg as la\n",
    "import scipy.sparse as sp\n",
    "import matplotlib.pyplot as plt\n",
    "np.set_printoptions(precision=4, suppress=True)"
   ]
  },
  {
   "cell_type": "markdown",
   "metadata": {},
   "source": [
    "## 第3题：迭代法\n",
    "\n",
    "### 问题分析与算法设计\n",
    "\n",
    "本题通过迭代法求解给定的方程组，认识迭代法的基本思想，掌握迭代法的基本原理和计算方法以及迭代初值和方程组系数矩阵性质对收敛速度的影响。\n",
    "观察可知，A是严格对角占优的，所以两种迭代法理论上都是收敛的。但是，由于A的条件数较大，所以迭代法的收敛速度较慢。因此，需要选择合适的迭代初值，以加快迭代的收敛速度。\n",
    "\n",
    "### 代码实现与结果\n",
    "由于scipy中未找到jacobi和seidel迭代法的实现，所以我自己实现了这两种迭代法。"
   ]
  },
  {
   "cell_type": "code",
   "execution_count": 19,
   "metadata": {},
   "outputs": [],
   "source": [
    "def jacobi_iteration(A, b, x0, tol=1e-6, max_iter=10000):\n",
    "    n = len(b)\n",
    "    x = x0.copy()\n",
    "    x_new = np.zeros_like(x)\n",
    "    converged = False\n",
    "    for k in range(max_iter):\n",
    "        for i in range(n):\n",
    "            sigma = sum(A[i, j] * x[j] for j in range(n) if j != i)\n",
    "            x_new[i] = (b[i] - sigma) / A[i, i]\n",
    "        if np.linalg.norm(x_new - x) < tol:\n",
    "            converged = True\n",
    "            break\n",
    "        x = x_new.copy()\n",
    "    return x_new, k + 1, converged\n",
    "\n",
    "\n",
    "def gauss_seidel_iteration(A, b, x0, tol=1e-6, max_iter=10000):\n",
    "    n = len(b)\n",
    "    x = x0.copy()\n",
    "    x_last = x0.copy()\n",
    "    converged = False\n",
    "    for k in range(max_iter):\n",
    "        for i in range(n):\n",
    "            sigma = sum(A[i, j] * x[j] for j in range(n) if j != i)\n",
    "            x[i] = (b[i] - sigma) / A[i, i]\n",
    "        if np.linalg.norm(x - x_last) < tol:\n",
    "            converged = True\n",
    "            break\n",
    "        x_last = x.copy()\n",
    "    return x, k + 1, converged"
   ]
  },
  {
   "cell_type": "markdown",
   "metadata": {},
   "source": [
    "下面的代码的数据集为\n",
    "- b\n",
    "  - [1, 1, 1 $ \\cdots $ 1]\n",
    "  - [1, 2, 3 $ \\cdots $ 20]\n",
    "  - random\n",
    "- x0\n",
    "  - [0, 0, 0 $ \\cdots $ 0]\n",
    "  - [1, 1, 1 $ \\cdots $ 1]\n",
    "  - random int\n",
    "- func\n",
    "    - jacobi\n",
    "    - seidel"
   ]
  },
  {
   "cell_type": "code",
   "execution_count": 20,
   "metadata": {},
   "outputs": [
    {
     "name": "stdout",
     "output_type": "stream",
     "text": [
      "b: ones, x0: zeros, func: jacobi\n",
      "  converged in 21 iterations\n",
      "  x = [0.4816 0.5734 0.6328 0.6521 0.6609 0.6643 0.6657 0.6663 0.6665 0.6666\n",
      " 0.6666 0.6665 0.6663 0.6657 0.6643 0.6609 0.6521 0.6328 0.5734 0.4816]\n",
      "\n",
      "b: ones, x0: zeros, func: gauss_seidel\n",
      "  converged in 14 iterations\n",
      "  x = [0.4816 0.5734 0.6328 0.6521 0.6609 0.6643 0.6657 0.6663 0.6665 0.6666\n",
      " 0.6666 0.6665 0.6663 0.6657 0.6643 0.6609 0.6521 0.6328 0.5734 0.4816]\n",
      "\n",
      "b: ones, x0: ones, func: jacobi\n",
      "  converged in 20 iterations\n",
      "  x = [0.4816 0.5734 0.6328 0.6521 0.6609 0.6643 0.6657 0.6663 0.6665 0.6666\n",
      " 0.6666 0.6665 0.6663 0.6657 0.6643 0.6609 0.6521 0.6328 0.5734 0.4816]\n",
      "\n",
      "b: ones, x0: ones, func: gauss_seidel\n",
      "  converged in 14 iterations\n",
      "  x = [0.4816 0.5734 0.6328 0.6521 0.6609 0.6643 0.6657 0.6663 0.6665 0.6666\n",
      " 0.6666 0.6665 0.6663 0.6657 0.6643 0.6609 0.6521 0.6328 0.5734 0.4816]\n",
      "\n",
      "b: ones, x0: random_float, func: jacobi\n",
      "  converged in 20 iterations\n",
      "  x = [0.4816 0.5734 0.6328 0.6521 0.6609 0.6643 0.6657 0.6663 0.6665 0.6666\n",
      " 0.6666 0.6665 0.6663 0.6657 0.6643 0.6609 0.6521 0.6328 0.5734 0.4816]\n",
      "\n",
      "b: ones, x0: random_float, func: gauss_seidel\n",
      "  converged in 13 iterations\n",
      "  x = [0.4816 0.5734 0.6328 0.6521 0.6609 0.6643 0.6657 0.6663 0.6665 0.6666\n",
      " 0.6666 0.6665 0.6663 0.6657 0.6643 0.6609 0.6521 0.6328 0.5734 0.4816]\n",
      "\n",
      "b: range, x0: zeros, func: jacobi\n",
      "  converged in 25 iterations\n",
      "  x = [ 0.7247  1.3444  2.0071  2.669   3.3344  4.0004  4.6668  5.3333  5.9998\n",
      "  6.6661  7.332   7.9967  8.6585  9.3133  9.9501 10.5455 11.0251 11.2817\n",
      " 10.6973  9.3897]\n",
      "\n",
      "b: range, x0: zeros, func: gauss_seidel\n",
      "  converged in 16 iterations\n",
      "  x = [ 0.7247  1.3444  2.0071  2.669   3.3344  4.0004  4.6668  5.3333  5.9998\n",
      "  6.6661  7.332   7.9967  8.6585  9.3133  9.9501 10.5455 11.0251 11.2817\n",
      " 10.6973  9.3897]\n",
      "\n",
      "b: range, x0: ones, func: jacobi\n",
      "  converged in 24 iterations\n",
      "  x = [ 0.7247  1.3444  2.0071  2.669   3.3344  4.0004  4.6668  5.3333  5.9998\n",
      "  6.6661  7.332   7.9967  8.6585  9.3133  9.9501 10.5455 11.0251 11.2817\n",
      " 10.6973  9.3897]\n",
      "\n",
      "b: range, x0: ones, func: gauss_seidel\n",
      "  converged in 16 iterations\n",
      "  x = [ 0.7247  1.3444  2.0071  2.669   3.3344  4.0004  4.6668  5.3333  5.9998\n",
      "  6.6661  7.332   7.9967  8.6585  9.3133  9.9501 10.5455 11.0251 11.2817\n",
      " 10.6973  9.3897]\n",
      "\n",
      "b: range, x0: random_float, func: jacobi\n",
      "  converged in 24 iterations\n",
      "  x = [ 0.7247  1.3444  2.0071  2.669   3.3344  4.0004  4.6668  5.3333  5.9998\n",
      "  6.6661  7.332   7.9967  8.6585  9.3133  9.9501 10.5455 11.0251 11.2817\n",
      " 10.6973  9.3897]\n",
      "\n",
      "b: range, x0: random_float, func: gauss_seidel\n",
      "  converged in 16 iterations\n",
      "  x = [ 0.7247  1.3444  2.0071  2.669   3.3344  4.0004  4.6668  5.3333  5.9998\n",
      "  6.6661  7.332   7.9967  8.6585  9.3133  9.9501 10.5455 11.0251 11.2817\n",
      " 10.6973  9.3897]\n",
      "\n",
      "b: random_float, x0: zeros, func: jacobi\n",
      "  converged in 20 iterations\n",
      "  x = [0.3451 0.5025 0.478  0.4236 0.3703 0.3023 0.1567 0.1469 0.1586 0.4465\n",
      " 0.396  0.3284 0.3673 0.1661 0.1373 0.2254 0.2964 0.3129 0.171  0.1155]\n",
      "\n",
      "b: random_float, x0: zeros, func: gauss_seidel\n",
      "  converged in 13 iterations\n",
      "  x = [0.3451 0.5025 0.478  0.4236 0.3703 0.3023 0.1567 0.1469 0.1586 0.4465\n",
      " 0.396  0.3284 0.3673 0.1661 0.1373 0.2254 0.2964 0.3129 0.171  0.1155]\n",
      "\n",
      "b: random_float, x0: ones, func: jacobi\n",
      "  converged in 21 iterations\n",
      "  x = [0.3451 0.5025 0.478  0.4236 0.3703 0.3023 0.1567 0.1469 0.1586 0.4465\n",
      " 0.396  0.3284 0.3673 0.1661 0.1373 0.2254 0.2964 0.3129 0.171  0.1155]\n",
      "\n",
      "b: random_float, x0: ones, func: gauss_seidel\n",
      "  converged in 14 iterations\n",
      "  x = [0.3451 0.5025 0.478  0.4236 0.3703 0.3023 0.1567 0.1469 0.1586 0.4465\n",
      " 0.396  0.3284 0.3673 0.1661 0.1373 0.2254 0.2964 0.3129 0.171  0.1155]\n",
      "\n",
      "b: random_float, x0: random_float, func: jacobi\n",
      "  converged in 19 iterations\n",
      "  x = [0.3451 0.5025 0.478  0.4236 0.3703 0.3023 0.1567 0.1469 0.1586 0.4465\n",
      " 0.396  0.3284 0.3673 0.1661 0.1373 0.2254 0.2964 0.3129 0.171  0.1155]\n",
      "\n",
      "b: random_float, x0: random_float, func: gauss_seidel\n",
      "  converged in 13 iterations\n",
      "  x = [0.3451 0.5025 0.478  0.4236 0.3703 0.3023 0.1567 0.1469 0.1586 0.4465\n",
      " 0.396  0.3284 0.3673 0.1661 0.1373 0.2254 0.2964 0.3129 0.171  0.1155]\n",
      "\n"
     ]
    }
   ],
   "source": [
    "A = sp.diags(\n",
    "    [-1 / 4, -1 / 2, 3, -1 / 2, -1 / 4], [-2, -1, 0, 1, 2], shape=(20, 20)\n",
    ").toarray()\n",
    "    \n",
    "b_sets = {\n",
    "    \"ones\": np.ones(20),\n",
    "    \"range\": np.arange(1, 21),\n",
    "    \"random_float\": np.random.rand(20),\n",
    "}\n",
    "\n",
    "x0_sets = {\n",
    "    \"zeros\": np.zeros(20),\n",
    "    \"ones\": np.ones(20),\n",
    "    \"random_float\": np.random.rand(20),\n",
    "}\n",
    "\n",
    "func_sets = {\n",
    "    \"jacobi\": jacobi_iteration,\n",
    "    \"gauss_seidel\": gauss_seidel_iteration,\n",
    "}\n",
    "\n",
    "for b_name, b in b_sets.items():\n",
    "    for x0_name, x0 in x0_sets.items():\n",
    "        for func_name, func in func_sets.items():\n",
    "            print(f\"b: {b_name}, x0: {x0_name}, func: {func_name}\")\n",
    "            x, k, converged = func(A, b, x0, tol=1e-6, max_iter=10000)\n",
    "            if converged:\n",
    "                print(f\"  converged in {k} iterations\")\n",
    "            else:\n",
    "                print(\"  did not converge\")\n",
    "            print(f\"  x = {x}\\n\")"
   ]
  },
  {
   "cell_type": "markdown",
   "metadata": {},
   "source": [
    "- 观察可知，A是严格对角占优的，所以两种迭代法理论上都是收敛的。各种结果也确实验证了这一点，基本上都在30次迭代内收敛。\n",
    "- 每一种数据集都有两种迭代法的结果，可以看到，seidel迭代法的收敛速度要比jacobi迭代法快很多。\n",
    "\n",
    "### 第2问\n",
    "选择b为[1,2,3...20]，x0为[1,1,1...1]，使用jacobi迭代法，迭代30次后的结果为"
   ]
  },
  {
   "cell_type": "code",
   "execution_count": 21,
   "metadata": {},
   "outputs": [
    {
     "data": {
      "image/png": "[encoded data removed]",
      "text/plain": [
       "<Figure size 640x480 with 1 Axes>"
      ]
     },
     "metadata": {},
     "output_type": "display_data"
    }
   ],
   "source": [
    "b= range(1, 21)\n",
    "x0 = np.zeros(20)\n",
    "func = jacobi_iteration\n",
    "\n",
    "k_list = []\n",
    "for i in range(1, 21):\n",
    "    A = sp.diags(\n",
    "        [-1 / 4, -1 / 2, 3*i, -1 / 2, -1 / 4], [-2, -1, 0, 1, 2], shape=(20, 20)\n",
    "    ).toarray()\n",
    "    x, k, converged = func(A, b, x0, tol=1e-5, max_iter=10000)\n",
    "    k_list.append(k)\n",
    "    \n",
    "plt.plot(range(1, 21), k_list)\n",
    "plt.xlabel(\"Diagonal element value\")\n",
    "plt.ylabel(\"Number of iterations\")\n",
    "plt.title(\"Number of iterations to converge\")\n",
    "plt.show()\n"
   ]
  },
  {
   "cell_type": "markdown",
   "metadata": {},
   "source": [
    "### 结果分析\n",
    "\n",
    "随着主对角元素的增加，迭代次数在减少，收敛速度变快\n",
    "\n",
    "\n",
    "### 结论\n",
    "\n",
    "系数矩阵的“对角占优程度”越大，迭代法的收敛速度越快。\n"
   ]
  },
  {
   "cell_type": "markdown",
   "metadata": {},
   "source": [
    "## 第5题：投入产出\n",
    "### 问题分析与模型建立\n",
    "在技术水平没有明显提高的情况下，认为直接消耗系数不变，可得到直接消耗系数矩阵`[[0.15,0.1,0.2],[0.3,0.05,0.3],[0.2,0.3,0]]`  \n",
    "设第i个部门的总产出为$x_i$,其中对第j个部门的投入为$x_{ij}$,外部需求为$d_i$,则有$x_i=\\sum_{j=1}^{n}x_{ij}+d_i,\\quad i=1,2,3$,又直接消耗系数$a_{ij}=\\frac {x_{ij}}{x_i}$,则有$x_{ij}=a_{ij}x_i$,以及各部门总产出等于总投入所以有$x_i=\\sum_{j=1}^{n}a_{ij}x_i+d_i$,整理得$(I-A)x=d$,其中$I$为单位矩阵，$d$为外部需求向量。\n",
    "- 第一问\n",
    "  实际上就是给定d，求解x，即求解线性方程组$(I-A)x=d$\n",
    "- 第二问\n",
    "  从$(I-A)x=d$中可得，x的解为$x=(I-A)^{-1}d$，所以当d增加1个单位时，x的增加量为$(I-A)^{-1}$\n",
    "\n",
    "### 代码实现与结果\n"
   ]
  },
  {
   "cell_type": "code",
   "execution_count": 22,
   "metadata": {},
   "outputs": [
    {
     "name": "stdout",
     "output_type": "stream",
     "text": [
      "solution of q1\n"
     ]
    },
    {
     "data": {
      "text/plain": [
       "array([139.2801, 267.6056, 208.1377])"
      ]
     },
     "execution_count": 22,
     "metadata": {},
     "output_type": "execute_result"
    }
   ],
   "source": [
    "A = np.array(([0.15, 0.1, 0.2], [0.3, 0.05, 0.3], [0.2, 0.3, 0]))\n",
    "d = np.array([50,150,100])\n",
    "res= np.linalg.solve(np.eye(3) - A, d)\n",
    "print(\"solution of q1\")\n",
    "res"
   ]
  },
  {
   "cell_type": "code",
   "execution_count": 23,
   "metadata": {},
   "outputs": [
    {
     "name": "stdout",
     "output_type": "stream",
     "text": [
      "solution of q2\n"
     ]
    },
    {
     "data": {
      "text/plain": [
       "array([[1.3459, 0.2504, 0.3443],\n",
       "       [0.5634, 1.2676, 0.493 ],\n",
       "       [0.4382, 0.4304, 1.2167]])"
      ]
     },
     "execution_count": 23,
     "metadata": {},
     "output_type": "execute_result"
    }
   ],
   "source": [
    "print(\"solution of q2\")\n",
    "la.inv(np.eye(3) - A)"
   ]
  },
  {
   "cell_type": "markdown",
   "metadata": {},
   "source": [
    "### 结果分析与结论\n",
    "- 第一问\n",
    "  通过计算可得，当外部需求为[50,150,100]时，三个部门的产出分别为[139.2801, 267.6056, 208.1377]（亿元）\n",
    "- 第二问\n",
    "  - 如果对农业的外部需求增加一个单位，那么三个部门产出分别增加[1.3459,0.5008,0.5164]个单位\n",
    "  - 如果对制造业业的外部需求增加一个单位，那么三个部门产出分别增加[0.2817, 1.2676, 0.3697]个单位\n",
    "  - 如果对服务业的外部需求增加一个单位，那么三个部门产出分别增加[0.2921, 0.5738, 1.2167]个单位"
   ]
  },
  {
   "cell_type": "markdown",
   "metadata": {},
   "source": [
    "## 第8题：钢架结构\n",
    "\n",
    "### 问题分析与模型建立\n",
    "\n",
    "对三个点水平数值方向进行受力分析，得到下面的方程组\n",
    "$$\n",
    "\\begin{cases}\n",
    "    0.866F_3+0.5F_1=F\\\\\n",
    "    0.866F_1-0.5F_3=0 \\quad (1)\\\\\n",
    "    0.5F_1 -V_2=0\\\\\n",
    "    0.866F_-F_2-H_2=0 \\quad (2)\\\\\n",
    "    0.5F_3-F_2=0\\\\\n",
    "    0.866F_3-V_3=0 \\quad (3)\\\\\n",
    "\\end{cases}\n",
    "$$\n",
    "\n",
    "得到相应的线性方程组\n",
    "$$\n",
    "\\begin{bmatrix}\n",
    "0.5 & 0 & 0.866 & 0 & 0 & 0 \\\\\n",
    "0.866 & 0 & -0.5 & 0 & 0 & 0 \\\\\n",
    "0.5 & 0 & -1 & 0 & 0 & 0 \\\\\n",
    "0.866 & -1 & 0 & -1 & 0 & 0 \\\\\n",
    "0 & -1 & 0.5 & 0 & 0 & 0 \\\\\n",
    "0 & 0 & 0.866 & 0 & 0 & -1 \\\\\n",
    "\\end{bmatrix}\n",
    "\\begin{bmatrix}\n",
    "F_1 \\\\\n",
    "F_2 \\\\\n",
    "F_3 \\\\\n",
    "H \\\\\n",
    "V_1 \\\\\n",
    "V_2 \\\\\n",
    "\\end{bmatrix}\n",
    "=\n",
    "\\begin{bmatrix}\n",
    "100 \\\\\n",
    "0 \\\\\n",
    "0 \\\\\n",
    "0 \\\\\n",
    "0 \\\\\n",
    "0 \\\\\n",
    "\\end{bmatrix}\n",
    "$$\n",
    "\n",
    "\n",
    "### 代码实现与结果"
   ]
  },
  {
   "cell_type": "code",
   "execution_count": 24,
   "metadata": {},
   "outputs": [
    {
     "name": "stdout",
     "output_type": "stream",
     "text": [
      "solution of q1\n"
     ]
    },
    {
     "data": {
      "text/plain": [
       "array([50.0022, 43.3019, 86.6038, -0.    , 25.0011, 74.9989])"
      ]
     },
     "execution_count": 24,
     "metadata": {},
     "output_type": "execute_result"
    }
   ],
   "source": [
    "A = np.array(\n",
    "    (\n",
    "        [0.5, 0, 0.866, 0, 0, 0],\n",
    "        [0.866, 0, -0.5, 0, 0, 0],\n",
    "        [0.5, 0, 0, 0, -1, 0],\n",
    "        [0.866, -1, 0, -1, 0, 0],\n",
    "        [0, -1, 0.5, 0, 0, 0],\n",
    "        [0, 0, 0.866, 0, 0, -1],\n",
    "    )\n",
    ")\n",
    "b = np.array([100,0,0,0,0,0])\n",
    "print(\"solution of q1\")\n",
    "np.linalg.solve(A, b)"
   ]
  },
  {
   "cell_type": "code",
   "execution_count": 25,
   "metadata": {},
   "outputs": [
    {
     "data": {
      "text/plain": [
       "array([ 0.5  ,  0.433,  0.866, -0.   ,  0.25 ,  0.75 ])"
      ]
     },
     "execution_count": 25,
     "metadata": {},
     "output_type": "execute_result"
    }
   ],
   "source": [
    "delta=[1,0,0,0,0,0]\n",
    "la.inv(A).dot(delta)"
   ]
  },
  {
   "cell_type": "markdown",
   "metadata": {},
   "source": [
    "### 结果分析\n",
    "- 外力F为100kg时各个力的大小为$F_1=50kg,F_2=43.3kg,F_3=86.6kg,H=0kg,V_2=25kg,V_3=75kg$\n",
    "- 外力变化1kg时，各个力变化大小为$F_1=0.5kg,F_2=0.433kg,F_3=0.866kg,H=0kg,V_2=0.25kg,V_3=0.75kg$\n"
   ]
  }
 ],
 "metadata": {
  "kernelspec": {
   "display_name": "Python 3",
   "language": "python",
   "name": "python3"
  },
  "language_info": {
   "codemirror_mode": {
    "name": "ipython",
    "version": 3
   },
   "file_extension": ".py",
   "mimetype": "text/x-python",
   "name": "python",
   "nbconvert_exporter": "python",
   "pygments_lexer": "ipython3",
   "version": "3.11.8"
  },
  "orig_nbformat": 4
 },
 "nbformat": 4,
 "nbformat_minor": 2
}
