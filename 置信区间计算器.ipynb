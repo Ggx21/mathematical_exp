{
 "cells": [
  {
   "cell_type": "code",
   "execution_count": 5,
   "metadata": {},
   "outputs": [
    {
     "name": "stdout",
     "output_type": "stream",
     "text": [
      "95% 置信区间: (-0.74, 0.74)\n"
     ]
    }
   ],
   "source": [
    "import numpy as np\n",
    "from scipy import stats\n",
    "\n",
    "def confidence_interval(data, confidence=0.95):\n",
    "    \"\"\"\n",
    "    计算给定数据的置信区间。\n",
    "\n",
    "    参数:\n",
    "    data (list or numpy array): 样本数据。\n",
    "    confidence (float): 置信水平，默认值为0.95（95%置信水平）。\n",
    "\n",
    "    返回:\n",
    "    tuple: 包含置信区间下限和上限的元组。\n",
    "    \"\"\"\n",
    "    n = len(data)\n",
    "    mean = np.mean(data)\n",
    "    sem = stats.sem(data)  # 标准误\n",
    "    margin_of_error = sem * stats.t.ppf((1 + confidence) / 2., n-1)  # t分布的分位数\n",
    "    return mean - margin_of_error, mean + margin_of_error\n",
    "\n",
    "# 示例数据\n",
    "sample_data = [-0.74113281, -0.67225302,  0.35550655,  0.0821459,   0.34375453,  0.49534268,\n",
    "  0.31750117,  1.62238851 ,-1.80325353]\n",
    "\n",
    "# 计算95%置信区间\n",
    "ci_lower, ci_upper = confidence_interval(sample_data, confidence=0.95)\n",
    "print(f\"95% 置信区间: ({ci_lower:.2f}, {ci_upper:.2f})\")\n"
   ]
  }
 ],
 "metadata": {
  "kernelspec": {
   "display_name": "Python 3",
   "language": "python",
   "name": "python3"
  },
  "language_info": {
   "codemirror_mode": {
    "name": "ipython",
    "version": 3
   },
   "file_extension": ".py",
   "mimetype": "text/x-python",
   "name": "python",
   "nbconvert_exporter": "python",
   "pygments_lexer": "ipython3",
   "version": "3.11.8"
  }
 },
 "nbformat": 4,
 "nbformat_minor": 2
}
