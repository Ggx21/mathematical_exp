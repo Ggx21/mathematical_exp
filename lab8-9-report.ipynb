{
 "cells": [
  {
   "cell_type": "markdown",
   "metadata": {},
   "source": [
    "# 第x次实验实验报告\n",
    "计算机系 计15 2021010803 郭高旭\n",
    "\n",
    "## 实验目的\n",
    "- 练习<>的计算\n",
    "- 掌握使用python求<>\n",
    "- 通过实例使用<>模型解决简化的实际问题\n",
    "- 了解<>"
   ]
  },
  {
   "cell_type": "markdown",
   "metadata": {},
   "source": [
    "## 第a题：\n",
    "\n",
    "\n",
    "### 问题分析与算法设计\n",
    "\n",
    "### 代码实现与结果\n",
    "下面是代码实现，使用python实现了<>的计算"
   ]
  },
  {
   "cell_type": "code",
   "execution_count": null,
   "metadata": {},
   "outputs": [],
   "source": []
  },
  {
   "cell_type": "markdown",
   "metadata": {},
   "source": [
    "### 结果分析\n",
    "\n",
    "\n",
    "### 结论\n",
    "\n"
   ]
  },
  {
   "cell_type": "markdown",
   "metadata": {},
   "source": [
    "## 第b题：\n",
    "### 问题分析与模型建立\n",
    "\n",
    "### 代码实现与结果\n"
   ]
  },
  {
   "cell_type": "code",
   "execution_count": null,
   "metadata": {},
   "outputs": [],
   "source": []
  },
  {
   "cell_type": "markdown",
   "metadata": {},
   "source": [
    "### 结果分析\n",
    "\n",
    "### 结论\n",
    "\n",
    "### 意义\n"
   ]
  },
  {
   "cell_type": "markdown",
   "metadata": {},
   "source": [
    "## 第c题：\n",
    "\n",
    "### 问题分析与模型建立\n",
    "\n",
    "### 代码实现与结果"
   ]
  },
  {
   "cell_type": "markdown",
   "metadata": {},
   "source": [
    "### 结果分析\n",
    "\n",
    "### 结论\n"
   ]
  }
 ],
 "metadata": {
  "kernelspec": {
   "display_name": "Python 3",
   "language": "python",
   "name": "python3"
  },
  "language_info": {
   "codemirror_mode": {
    "name": "ipython",
    "version": 3
   },
   "file_extension": ".py",
   "mimetype": "text/x-python",
   "name": "python",
   "nbconvert_exporter": "python",
   "pygments_lexer": "ipython3",
   "version": "3.11.8"
  },
  "orig_nbformat": 4
 },
 "nbformat": 4,
 "nbformat_minor": 2
}
