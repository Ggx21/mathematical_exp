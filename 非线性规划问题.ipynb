{
 "cells": [
  {
   "cell_type": "markdown",
   "metadata": {},
   "source": [
    "<img src=\"img/sp.jpg\" width=\"50%\" height=\"50%\">"
   ]
  },
  {
   "cell_type": "code",
   "execution_count": 17,
   "metadata": {},
   "outputs": [
    {
     "name": "stdout",
     "output_type": "stream",
     "text": [
      "[0.00000000e+00 5.83333333e+00 0.00000000e+00 6.91666667e+01\n",
      " 1.48053715e-12 2.12179487e+01 1.86961557e-13]\n",
      " message: Optimization terminated successfully\n",
      " success: True\n",
      "  status: 0\n",
      "     fun: 1114.153846153807\n",
      "       x: [ 0.000e+00  5.833e+00  0.000e+00  6.917e+01  1.481e-12\n",
      "            2.122e+01  1.870e-13]\n",
      "     nit: 12\n",
      "     jac: [ 9.600e+00  7.200e+00  4.800e+00  2.400e+00 -7.200e+00\n",
      "           -4.800e+00 -2.400e+00]\n",
      "    nfev: 96\n",
      "    njev: 12\n"
     ]
    }
   ],
   "source": [
    "import numpy as np\n",
    "import sympy as sp\n",
    "from scipy.optimize import minimize\n",
    "from sympy import symbols\n",
    "\n",
    "\n",
    "def objective(x):\n",
    "    x1,x2,x3,x4,y1,y2,y3= symbols('x1 x2 x3 x4 y1 y2 y3')\n",
    "    expr= 2.4*(4*x1+3*x2+2*x3 + x4-3*y1-2*y2-y3 +420)\n",
    "    func = sp.lambdify((x1,x2,x3,x4,y1,y2,y3), expr, 'numpy')\n",
    "    return func(x[0],x[1],x[2],x[3],x[4],x[5],x[6])\n",
    "\n",
    "def constraint1(x):\n",
    "    return 120*65+60*x[0]-6000\n",
    "\n",
    "def constraint2(x):\n",
    "    return (110+x[0]-x[4])*65+60*x[1]-7500\n",
    "\n",
    "def constraint3(x):\n",
    "    return (100+x[0]+x[1]-x[4]-x[5])*65+60*x[2]-5500\n",
    "\n",
    "def constraint4(x):\n",
    "    return (90+x[0]+x[1]+x[2]-x[4]-x[5]-x[6])*65+60*x[3]-9000\n",
    "\n",
    "constrains = ({'type': 'ineq', 'fun': constraint1},#这里的ineq表示不等式约束，eq表示等式约束,ineq的约束条件是大于等于0\n",
    "                {'type': 'ineq', 'fun': constraint2},\n",
    "                {'type': 'ineq', 'fun': constraint3},\n",
    "                {'type': 'ineq', 'fun': constraint4})\n",
    "\n",
    "\n",
    "q1 = minimize(objective, x0=[0,0,0,0,0,0,0], constraints=constrains,bounds=[(0, 100),(0, 100),(0, 100),(0, 100),(0, 100),(0, 100),(0, 100)],method=\"SLSQP\")\n",
    "print(q1.x)\n",
    "print(q1)\n",
    "\n"
   ]
  },
  {
   "cell_type": "code",
   "execution_count": 18,
   "metadata": {},
   "outputs": [
    {
     "ename": "ModuleNotFoundError",
     "evalue": "No module named 'gurobipy'",
     "output_type": "error",
     "traceback": [
      "\u001b[0;31m---------------------------------------------------------------------------\u001b[0m",
      "\u001b[0;31mModuleNotFoundError\u001b[0m                       Traceback (most recent call last)",
      "Cell \u001b[0;32mIn[18], line 1\u001b[0m\n\u001b[0;32m----> 1\u001b[0m \u001b[38;5;28;01mfrom\u001b[39;00m \u001b[38;5;21;01mgurobipy\u001b[39;00m \u001b[38;5;28;01mimport\u001b[39;00m Model, GRB\n\u001b[1;32m      3\u001b[0m \u001b[38;5;66;03m# 创建第一个模型\u001b[39;00m\n\u001b[1;32m      4\u001b[0m model_1 \u001b[38;5;241m=\u001b[39m Model(\u001b[38;5;124m\"\u001b[39m\u001b[38;5;124mprofit_maximization_1\u001b[39m\u001b[38;5;124m\"\u001b[39m)\n",
      "\u001b[0;31mModuleNotFoundError\u001b[0m: No module named 'gurobipy'"
     ]
    }
   ],
   "source": [
    "from gurobipy import Model, GRB\n",
    "\n",
    "# 创建第一个模型\n",
    "model_1 = Model(\"profit_maximization_1\")\n",
    "model_1.setParam('OutputFlag', 0)\n",
    "x = model_1.addVars(7, vtype=GRB.INTEGER, name=\"x1\")\n",
    "objective_1 = 2.4*(4*x[0]+3*x[1]+2*x[2] + x[3]-3*x[4]-2*x[5]-x[6] +420)\n",
    "model_1.addConstr(120*65+60*x[0]>=6000, name=\"c1_1\")\n",
    "model_1.addConstr((110+x[0]-x[4])*65+60*x[1]-7500 >= 0, name=\"c2_1\")\n",
    "model_1.addConstr((100+x[0]+x[1]-x[4]-x[5])*65+60*x[2]-5500>=0, name=\"c3_1\")\n",
    "model_1.addConstr((90+x[0]+x[1]+x[2]-x[4]-x[5]-x[6])*65+60*x[3]-9000>=0, name=\"c4_1\")\n",
    "model_1.setObjective(objective_1, GRB.MAXIMIZE)\n",
    "model_1.addConstr(x[0] >= 0)\n",
    "model_1.addConstr(x[1] >= 0)\n",
    "model_1.addConstr(x[2] >= 0)\n",
    "model_1.addConstr(x[3] >= 0)\n",
    "model_1.addConstr(x[4] >= 0)\n",
    "model_1.addConstr(x[5] >= 0)\n",
    "model_1.addConstr(x[6] >= 0)\n",
    "model_1.optimize()\n",
    "\n",
    "if model_1.Status == GRB.OPTIMAL:\n",
    "    print(\"model_1最优解为：\", model_1.objVal)\n",
    "    for v in model_1.getVars():\n",
    "        print(v.varName, v.x)"
   ]
  }
 ],
 "metadata": {
  "kernelspec": {
   "display_name": "work",
   "language": "python",
   "name": "python3"
  },
  "language_info": {
   "codemirror_mode": {
    "name": "ipython",
    "version": 3
   },
   "file_extension": ".py",
   "mimetype": "text/x-python",
   "name": "python",
   "nbconvert_exporter": "python",
   "pygments_lexer": "ipython3",
   "version": "3.11.8"
  }
 },
 "nbformat": 4,
 "nbformat_minor": 2
}
